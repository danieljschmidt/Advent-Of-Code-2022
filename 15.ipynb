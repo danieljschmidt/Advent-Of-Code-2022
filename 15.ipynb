{
 "cells": [
  {
   "cell_type": "code",
   "execution_count": 1,
   "metadata": {},
   "outputs": [],
   "source": [
    "import numpy as np\n",
    "from numba import njit"
   ]
  },
  {
   "cell_type": "code",
   "execution_count": 2,
   "metadata": {},
   "outputs": [],
   "source": [
    "def read_input(filename):\n",
    "    \n",
    "    with open(filename) as f:\n",
    "        input_text = f.readlines()\n",
    "\n",
    "    input_list = []\n",
    "\n",
    "    for line in input_text:\n",
    "        line_parts = line.split()\n",
    "        sensor_j = int(line_parts[2].split(\"=\")[1][:-1])\n",
    "        sensor_i = int(line_parts[3].split(\"=\")[1][:-1])\n",
    "        sensor = (sensor_i, sensor_j)\n",
    "        beacon_j = int(line_parts[8].split(\"=\")[1][:-1])\n",
    "        beacon_i = int(line_parts[9].split(\"=\")[1])\n",
    "        beacon = (beacon_i, beacon_j)\n",
    "\n",
    "        input_list.append((sensor, beacon))\n",
    "        \n",
    "    return input_list\n",
    "\n",
    "\n",
    "@njit\n",
    "def manhattan_distance(pos_1, pos_2):\n",
    "    \n",
    "    return abs(pos_1[0]-pos_2[0]) + abs(pos_1[1] - pos_2[1])\n",
    "\n",
    "\n",
    "@njit\n",
    "def manhattan_distance_dict(d):\n",
    "    \n",
    "    pos_1 = d[0]\n",
    "    pos_2 = d[1]\n",
    "    \n",
    "    return manhattan_distance(pos_1, pos_2)\n",
    "\n",
    "\n",
    "def find_dim(input_list):\n",
    "    \n",
    "    min_x = np.inf\n",
    "    max_x = -np.inf\n",
    "    max_dist = 0\n",
    "    \n",
    "    for obs in input_list:\n",
    "        sensor_j = obs[0][1]\n",
    "        dist = manhattan_distance_dict(obs)\n",
    "        if sensor_j < min_x:\n",
    "            min_x = sensor_j\n",
    "        if sensor_j > max_x:\n",
    "            max_x = sensor_j\n",
    "        if dist > max_dist:\n",
    "            max_dist = dist\n",
    "            \n",
    "    return min_x, max_x, max_dist\n",
    "\n",
    "\n",
    "def count_no_beacon_in_line(i_rel, input_list):\n",
    "\n",
    "    min_x, max_x, max_dist = find_dim(input_list)\n",
    "\n",
    "    line_rel = np.zeros(max_x - min_x + 2*max_dist + 1, dtype=\"bool\")\n",
    "\n",
    "    for obs in input_list:\n",
    "        dist = manhattan_distance_dict(obs)\n",
    "        sensor_i = obs[0][0]\n",
    "        sensor_j = obs[0][1]\n",
    "        obs_rel_below = sensor_i >= i_rel and sensor_i - dist <= i_rel\n",
    "        obs_rel_above = sensor_i <= i_rel and sensor_i + dist >= i_rel\n",
    "        obs_rel = obs_rel_below or obs_rel_above\n",
    "\n",
    "        if obs_rel:\n",
    "            dist_rem = dist - abs(sensor_i - i_rel)\n",
    "            line_rel[sensor_j - dist_rem - (min_x - max_dist): sensor_j + dist_rem + 1  - (min_x - max_dist)] = True\n",
    "            \n",
    "    for obs in input_list:\n",
    "        beacon_i, beacon_j = obs[1]\n",
    "        if beacon_i == i_rel:\n",
    "            line_rel[beacon_j - (min_x - max_dist)] = False\n",
    "            \n",
    "    return line_rel.sum()"
   ]
  },
  {
   "cell_type": "markdown",
   "metadata": {},
   "source": [
    "## Part I"
   ]
  },
  {
   "cell_type": "code",
   "execution_count": 3,
   "metadata": {},
   "outputs": [
    {
     "data": {
      "text/plain": [
       "26"
      ]
     },
     "execution_count": 3,
     "metadata": {},
     "output_type": "execute_result"
    }
   ],
   "source": [
    "input_list_test = read_input(\"15_test.txt\")\n",
    "count_no_beacon_in_line(10, input_list_test)"
   ]
  },
  {
   "cell_type": "code",
   "execution_count": 4,
   "metadata": {},
   "outputs": [
    {
     "data": {
      "text/plain": [
       "4886370"
      ]
     },
     "execution_count": 4,
     "metadata": {},
     "output_type": "execute_result"
    }
   ],
   "source": [
    "input_list = read_input(\"15.txt\")\n",
    "count_no_beacon_in_line(2000000, input_list)"
   ]
  },
  {
   "cell_type": "markdown",
   "metadata": {},
   "source": [
    "## Part II"
   ]
  },
  {
   "cell_type": "code",
   "execution_count": 5,
   "metadata": {},
   "outputs": [],
   "source": [
    "@njit\n",
    "def count_no_beacon_in_line_2(i_rel, input_list, max_x):\n",
    "\n",
    "    line_rel = np.zeros(max_x + 1, dtype=np.bool_)\n",
    "\n",
    "    for obs in input_list:\n",
    "        dist = manhattan_distance_dict(obs)\n",
    "        sensor_i, sensor_j = obs[0]\n",
    "        dist_rem = dist - abs(sensor_i - i_rel)\n",
    "\n",
    "        if dist_rem >= 0:\n",
    "            x_l = np.fmax(0, sensor_j - dist_rem)\n",
    "            x_h = np.fmin(max_x, sensor_j + dist_rem)\n",
    "            line_rel[x_l: x_h + 1] = True\n",
    "            \n",
    "    if line_rel.sum() < max_x + 1:\n",
    "        return np.argmin(line_rel)\n",
    "    else:\n",
    "        return -1"
   ]
  },
  {
   "cell_type": "code",
   "execution_count": 6,
   "metadata": {},
   "outputs": [],
   "source": [
    "import time"
   ]
  },
  {
   "cell_type": "code",
   "execution_count": 7,
   "metadata": {},
   "outputs": [],
   "source": [
    "@njit\n",
    "def no_beacon(input_list, start_x, max_x):\n",
    "    for i in range(start_x, max_x):\n",
    "        #if i % 1000 == 0: print(i)\n",
    "        res = count_no_beacon_in_line_2(i, input_list, max_x)\n",
    "        if res != -1:\n",
    "            return res*4000000 + i"
   ]
  },
  {
   "cell_type": "code",
   "execution_count": 8,
   "metadata": {},
   "outputs": [
    {
     "name": "stderr",
     "output_type": "stream",
     "text": [
      "<ipython-input-7-cc7dddb9f919>:5: NumbaPendingDeprecationWarning: \u001b[1m\u001b[1m\n",
      "Encountered the use of a type that is scheduled for deprecation: type 'reflected list' found for argument 'input_list' of function 'count_no_beacon_in_line_2'.\n",
      "\n",
      "For more information visit https://numba.pydata.org/numba-doc/latest/reference/deprecation.html#deprecation-of-reflection-for-list-and-set-types\n",
      "\u001b[1m\n",
      "File \"<ipython-input-5-6b9ffd48b18b>\", line 2:\u001b[0m\n",
      "\u001b[1m@njit\n",
      "\u001b[1mdef count_no_beacon_in_line_2(i_rel, input_list, max_x):\n",
      "\u001b[0m\u001b[1m^\u001b[0m\u001b[0m\n",
      "\u001b[0m\u001b[0m\n",
      "  res = count_no_beacon_in_line_2(i, input_list, max_x)\n",
      "C:\\Users\\djschmi\\Anaconda3\\lib\\site-packages\\numba\\core\\ir_utils.py:2031: NumbaPendingDeprecationWarning: \u001b[1m\n",
      "Encountered the use of a type that is scheduled for deprecation: type 'reflected list' found for argument 'input_list' of function 'no_beacon'.\n",
      "\n",
      "For more information visit https://numba.pydata.org/numba-doc/latest/reference/deprecation.html#deprecation-of-reflection-for-list-and-set-types\n",
      "\u001b[1m\n",
      "File \"<ipython-input-7-cc7dddb9f919>\", line 2:\u001b[0m\n",
      "\u001b[1m@njit\n",
      "\u001b[1mdef no_beacon(input_list, start_x, max_x):\n",
      "\u001b[0m\u001b[1m^\u001b[0m\u001b[0m\n",
      "\u001b[0m\n",
      "  warnings.warn(NumbaPendingDeprecationWarning(msg, loc=loc))\n"
     ]
    },
    {
     "data": {
      "text/plain": [
       "56000011"
      ]
     },
     "execution_count": 8,
     "metadata": {},
     "output_type": "execute_result"
    }
   ],
   "source": [
    "no_beacon(input_list_test, 0, 20)"
   ]
  },
  {
   "cell_type": "code",
   "execution_count": 11,
   "metadata": {},
   "outputs": [
    {
     "name": "stdout",
     "output_type": "stream",
     "text": [
      "584.8641958236694\n",
      "11374534948438\n"
     ]
    }
   ],
   "source": [
    "t0 = time.time()\n",
    "start_x = 2500000\n",
    "max_x   = 3000000\n",
    "#4000000\n",
    "res = no_beacon(input_list, start_x, max_x)\n",
    "print(time.time() - t0)\n",
    "print(res)"
   ]
  },
  {
   "cell_type": "code",
   "execution_count": null,
   "metadata": {},
   "outputs": [],
   "source": []
  }
 ],
 "metadata": {
  "kernelspec": {
   "display_name": "Python 3",
   "language": "python",
   "name": "python3"
  },
  "language_info": {
   "codemirror_mode": {
    "name": "ipython",
    "version": 3
   },
   "file_extension": ".py",
   "mimetype": "text/x-python",
   "name": "python",
   "nbconvert_exporter": "python",
   "pygments_lexer": "ipython3",
   "version": "3.8.5"
  }
 },
 "nbformat": 4,
 "nbformat_minor": 4
}
