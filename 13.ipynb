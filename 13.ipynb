{
 "cells": [
  {
   "cell_type": "code",
   "execution_count": 1,
   "metadata": {},
   "outputs": [],
   "source": [
    "def read_file(filename):\n",
    "    \n",
    "    with open(filename) as f:\n",
    "        lines = f.readlines()\n",
    "    \n",
    "    n_pairs = int((len(lines)+1)/3)\n",
    "\n",
    "    big_list = []\n",
    "    for i in range(n_pairs):\n",
    "        list_1 = eval(remove_linebreak(lines[3*i]))\n",
    "        list_2 = eval(remove_linebreak(lines[3*i+1]))\n",
    "        big_list.append(list_1)\n",
    "        big_list.append(list_2)\n",
    "        \n",
    "    return big_list\n",
    "\n",
    "\n",
    "def remove_linebreak(line):\n",
    "    if line[-1] == \"\\n\":\n",
    "        return line[:-1]\n",
    "    else:\n",
    "        return line"
   ]
  },
  {
   "cell_type": "code",
   "execution_count": 2,
   "metadata": {},
   "outputs": [],
   "source": [
    "def lists_in_right_order(list_1, list_2, list_1_queue, list_2_queue, print_comments = False):\n",
    "    \n",
    "    if print_comments: print(\"\")\n",
    "    if print_comments: print(\"{} vs. {}\".format(list_1, list_2))\n",
    "    if print_comments: print(\"{} vs. {}\".format(list_1_queue, list_2_queue))\n",
    "        \n",
    "    if len(list_1) == 0 and len(list_2) > 0:\n",
    "        if print_comments: print(\"List 2 longer\")\n",
    "        return True\n",
    "    \n",
    "    elif len(list_1) > 0 and len(list_2) == 0:\n",
    "        if print_comments: print(\"List 1 longer\")\n",
    "        return False\n",
    "    \n",
    "    elif len(list_1) == 0 and len(list_2) == 0:\n",
    "        if len(list_1_queue) == 0 and len(list_2_queue) == 0:\n",
    "            if print_comments: print(\"Lists empty, queues empty\")\n",
    "            return True\n",
    "        else:\n",
    "            if print_comments: print(\"Lists empty, continue with queues\")\n",
    "            return lists_in_right_order(list_1_queue[0], list_2_queue[0], list_1_queue[1:], list_2_queue[1:])\n",
    "        \n",
    "    elif isinstance(list_1[0], int) and isinstance(list_2[0], int):\n",
    "        if list_1[0] < list_2[0]:\n",
    "            if print_comments: print(\"Integer 2 larger\")\n",
    "            return True\n",
    "        elif list_1[0] > list_2[0]:\n",
    "            if print_comments: print(\"Integer 1 larger\")\n",
    "            return False\n",
    "        else:\n",
    "            if print_comments: print(\"Integers equal\")\n",
    "            return lists_in_right_order(list_1[1:], list_2[1:], list_1_queue, list_2_queue)\n",
    "        \n",
    "    elif isinstance(list_1[0], list) and isinstance(list_2[0], int):\n",
    "        if len(list_1[1:]) > 0 or len(list_2[1:]) > 0:\n",
    "            list_1_queue.insert(0, list_1[1:])\n",
    "            list_2_queue.insert(0, list_2[1:])\n",
    "        if print_comments: print(\"Mixed type\")\n",
    "        return lists_in_right_order(list_1[0], [list_2[0]], list_1_queue, list_2_queue)\n",
    "    \n",
    "    elif isinstance(list_1[0], int) and isinstance(list_2[0], list):\n",
    "        if len(list_1[1:]) > 0 or len(list_2[1:]) > 0:\n",
    "            list_1_queue.insert(0, list_1[1:])\n",
    "            list_2_queue.insert(0, list_2[1:])\n",
    "        if print_comments: print(\"Mixed type\")\n",
    "        return lists_in_right_order([list_1[0]], list_2[0], list_1_queue, list_2_queue)\n",
    "    \n",
    "    elif isinstance(list_1[0], list) and isinstance(list_2[0], list):\n",
    "        if len(list_1[1:]) > 0 or len(list_2[1:]) > 0:\n",
    "            list_1_queue.insert(0, list_1[1:])\n",
    "            list_2_queue.insert(0, list_2[1:])\n",
    "        if print_comments: print(\"Two lists\")\n",
    "        return lists_in_right_order(list_1[0], list_2[0], list_1_queue, list_2_queue)\n",
    "    \n",
    "    else:\n",
    "        raise Exception"
   ]
  },
  {
   "cell_type": "markdown",
   "metadata": {},
   "source": [
    "## Part 1"
   ]
  },
  {
   "cell_type": "code",
   "execution_count": 3,
   "metadata": {},
   "outputs": [
    {
     "name": "stdout",
     "output_type": "stream",
     "text": [
      "13\n"
     ]
    }
   ],
   "source": [
    "big_list_test = read_file(\"13_test.txt\")\n",
    "\n",
    "sum_index = 0\n",
    "for i in range(len(big_list_test)//2):\n",
    "    #print(i + 1)\n",
    "    bool_i = lists_in_right_order(big_list_test[i*2], big_list_test[i*2+1], [], [], print_comments=False) # change to True\n",
    "    #print(\"\")\n",
    "    if bool_i:\n",
    "        sum_index += i + 1\n",
    "        #print(bool_i)\n",
    "    #print(\"\")\n",
    "print(sum_index)"
   ]
  },
  {
   "cell_type": "code",
   "execution_count": 4,
   "metadata": {},
   "outputs": [
    {
     "name": "stdout",
     "output_type": "stream",
     "text": [
      "5938\n"
     ]
    }
   ],
   "source": [
    "big_list = read_file(\"13.txt\")\n",
    "\n",
    "sum_index = 0\n",
    "for i in range(len(big_list)//2):\n",
    "    if lists_in_right_order(big_list[i*2], big_list[i*2+1], [], [], print_comments=False):\n",
    "        sum_index += i + 1\n",
    "print(sum_index)"
   ]
  },
  {
   "cell_type": "markdown",
   "metadata": {},
   "source": [
    "## Part 2"
   ]
  },
  {
   "cell_type": "code",
   "execution_count": 5,
   "metadata": {},
   "outputs": [],
   "source": [
    "def sort_big_list(big_list):\n",
    "    \n",
    "    big_list_sorted = [big_list[0]]\n",
    "    for i, element_i in enumerate(big_list[1:]):\n",
    "        found_index = False\n",
    "        for j, element_j in enumerate(big_list_sorted):\n",
    "            if lists_in_right_order(element_i, element_j, [], [], print_comments=False):\n",
    "                big_list_sorted.insert(j, element_i)\n",
    "                found_index = True\n",
    "                break\n",
    "        if not found_index:\n",
    "            big_list_sorted.append(element_i)\n",
    "    \n",
    "    return big_list_sorted\n",
    "\n",
    "\n",
    "def find_index(big_list, target):\n",
    "    for i, element in enumerate(big_list):\n",
    "        if element == target:\n",
    "            return i + 1"
   ]
  },
  {
   "cell_type": "code",
   "execution_count": 6,
   "metadata": {},
   "outputs": [
    {
     "data": {
      "text/plain": [
       "140"
      ]
     },
     "execution_count": 6,
     "metadata": {},
     "output_type": "execute_result"
    }
   ],
   "source": [
    "big_list_test2 = big_list_test.copy()\n",
    "\n",
    "big_list_test2.append([[2]])\n",
    "big_list_test2.append([[6]])\n",
    "\n",
    "big_list_test2_sorted = sort_big_list(big_list_test2)\n",
    "find_index(big_list_test2_sorted, [[2]]) * find_index(big_list_test2_sorted, [[6]])"
   ]
  },
  {
   "cell_type": "code",
   "execution_count": 7,
   "metadata": {},
   "outputs": [
    {
     "data": {
      "text/plain": [
       "29025"
      ]
     },
     "execution_count": 7,
     "metadata": {},
     "output_type": "execute_result"
    }
   ],
   "source": [
    "big_list2 = big_list.copy()\n",
    "\n",
    "big_list2.append([[2]])\n",
    "big_list2.append([[6]])\n",
    "\n",
    "big_list2_sorted = sort_big_list(big_list2)\n",
    "find_index(big_list2_sorted, [[2]]) * find_index(big_list2_sorted, [[6]])"
   ]
  },
  {
   "cell_type": "code",
   "execution_count": null,
   "metadata": {},
   "outputs": [],
   "source": []
  }
 ],
 "metadata": {
  "kernelspec": {
   "display_name": "Python 3",
   "language": "python",
   "name": "python3"
  },
  "language_info": {
   "codemirror_mode": {
    "name": "ipython",
    "version": 3
   },
   "file_extension": ".py",
   "mimetype": "text/x-python",
   "name": "python",
   "nbconvert_exporter": "python",
   "pygments_lexer": "ipython3",
   "version": "3.8.5"
  }
 },
 "nbformat": 4,
 "nbformat_minor": 4
}
