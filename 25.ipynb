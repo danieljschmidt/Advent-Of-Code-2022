{
 "cells": [
  {
   "cell_type": "code",
   "execution_count": 1,
   "metadata": {},
   "outputs": [],
   "source": [
    "with open(\"25.txt\") as file:\n",
    "    lines = file.readlines()"
   ]
  },
  {
   "cell_type": "code",
   "execution_count": 2,
   "metadata": {},
   "outputs": [],
   "source": [
    "def letter_to_snafu_digit(x):\n",
    "    if x == \"=\": \n",
    "        return -2\n",
    "    elif x == \"-\":\n",
    "            return -1\n",
    "    else:\n",
    "        return int(x)\n",
    "\n",
    "    \n",
    "def snafu_digit_to_letter(x):\n",
    "    if x == -2:\n",
    "        return \"=\"\n",
    "    elif x == -1:\n",
    "        return \"-\"\n",
    "    else:\n",
    "        return str(x)\n",
    "    \n",
    "\n",
    "def snafu_to_decimal(snafu):\n",
    "    decimal = 0\n",
    "    n = len(snafu)\n",
    "    for i in reversed(range(n)):\n",
    "        decimal += letter_to_snafu_digit(snafu[i])*5**(n-i-1)\n",
    "    return decimal\n",
    "\n",
    "\n",
    "def find_snafu_digit(decimal, x):\n",
    "    if (- 2*x - int(x/2) <= decimal) and (decimal < - x - int(x/2)):\n",
    "        return -2\n",
    "    elif (- x - int(x/2) <= decimal) and (decimal < - int(x/2)):\n",
    "        return -1\n",
    "    elif (- int(x/2) <= decimal) and (decimal < x - int(x/2)):\n",
    "        return 0\n",
    "    elif (x - int(x/2) <= decimal) and (decimal < 2*x - int(x/2)):\n",
    "        return 1\n",
    "    elif (2*x - int(x/2) <= decimal) and (decimal < 3*x - int(x/2)):\n",
    "        return 2\n",
    "    else:\n",
    "        raise Exception\n",
    "        \n",
    "\n",
    "def find_n_snafu(decimal):\n",
    "    i = 0\n",
    "    while True:\n",
    "        try:\n",
    "            digit = find_snafu_digit(decimal, 5**i)\n",
    "            return i, digit\n",
    "        except:\n",
    "            i = i + 1\n",
    "            \n",
    "            \n",
    "def decimal_to_snafu(decimal):\n",
    "\n",
    "    n, digit = find_n_snafu(decimal)\n",
    "\n",
    "    snafu_digits = [digit]\n",
    "    remainder = decimal - digit*5**n\n",
    "\n",
    "    for i in reversed(range(n)):\n",
    "        digit = find_snafu_digit(remainder, 5**i)\n",
    "        snafu_digits.append(digit)\n",
    "        remainder = remainder - digit*5**i\n",
    "    \n",
    "    snafu_letters = \"\".join([snafu_digit_to_letter(x) for x in snafu_digits])\n",
    "    \n",
    "    return snafu_letters"
   ]
  },
  {
   "cell_type": "code",
   "execution_count": 3,
   "metadata": {},
   "outputs": [
    {
     "data": {
      "text/plain": [
       "28127432121050"
      ]
     },
     "execution_count": 3,
     "metadata": {},
     "output_type": "execute_result"
    }
   ],
   "source": [
    "sum_decimal = 0\n",
    "\n",
    "for line in lines:\n",
    "    if line[-1] == \"\\n\":\n",
    "        line = line[:-1]\n",
    "    sum_decimal += snafu_to_decimal(line)\n",
    "    \n",
    "sum_decimal"
   ]
  },
  {
   "cell_type": "code",
   "execution_count": 4,
   "metadata": {},
   "outputs": [
    {
     "data": {
      "text/plain": [
       "'122-2=200-0111--=200'"
      ]
     },
     "execution_count": 4,
     "metadata": {},
     "output_type": "execute_result"
    }
   ],
   "source": [
    "decimal_to_snafu(sum_decimal)"
   ]
  },
  {
   "cell_type": "code",
   "execution_count": 5,
   "metadata": {
    "scrolled": false
   },
   "outputs": [
    {
     "data": {
      "text/plain": [
       "'1=02'"
      ]
     },
     "execution_count": 5,
     "metadata": {},
     "output_type": "execute_result"
    }
   ],
   "source": [
    "decimal_to_snafu(77)"
   ]
  },
  {
   "cell_type": "code",
   "execution_count": 6,
   "metadata": {},
   "outputs": [
    {
     "data": {
      "text/plain": [
       "77"
      ]
     },
     "execution_count": 6,
     "metadata": {},
     "output_type": "execute_result"
    }
   ],
   "source": [
    "snafu_to_decimal(\"1=02\")"
   ]
  }
 ],
 "metadata": {
  "kernelspec": {
   "display_name": "Python 3",
   "language": "python",
   "name": "python3"
  },
  "language_info": {
   "codemirror_mode": {
    "name": "ipython",
    "version": 3
   },
   "file_extension": ".py",
   "mimetype": "text/x-python",
   "name": "python",
   "nbconvert_exporter": "python",
   "pygments_lexer": "ipython3",
   "version": "3.8.5"
  }
 },
 "nbformat": 4,
 "nbformat_minor": 4
}
