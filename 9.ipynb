{
 "cells": [
  {
   "cell_type": "code",
   "execution_count": 1,
   "metadata": {},
   "outputs": [],
   "source": [
    "import numpy as np"
   ]
  },
  {
   "cell_type": "code",
   "execution_count": 2,
   "metadata": {},
   "outputs": [],
   "source": [
    "with open(\"9.txt\") as f:\n",
    "    data = f.readlines()"
   ]
  },
  {
   "cell_type": "code",
   "execution_count": 3,
   "metadata": {},
   "outputs": [],
   "source": [
    "data_test = [\n",
    "    \"R 4\",\n",
    "    \"U 4\",\n",
    "    \"L 3\",\n",
    "    \"D 1\",\n",
    "    \"R 4\",\n",
    "    \"D 1\",\n",
    "    \"L 5\",\n",
    "    \"R 2\"\n",
    "]"
   ]
  },
  {
   "cell_type": "code",
   "execution_count": 4,
   "metadata": {},
   "outputs": [],
   "source": [
    "data_test2 = [\n",
    "    \"R 5\",\n",
    "    \"U 8\",\n",
    "    \"L 8\",\n",
    "    \"D 3\",\n",
    "    \"R 17\",\n",
    "    \"D 10\",\n",
    "    \"L 25\",\n",
    "    \"U 20\"\n",
    "]"
   ]
  },
  {
   "cell_type": "code",
   "execution_count": 5,
   "metadata": {},
   "outputs": [],
   "source": [
    "def get_list_changes(data):\n",
    "\n",
    "    list_changes = []\n",
    "    for line in data:\n",
    "        if line[-1] == \"\\n\":\n",
    "            line = line[:-1]\n",
    "        direction, steps = line.split()\n",
    "        if direction == 'R':\n",
    "            change = np.array([0,1])\n",
    "        elif direction == 'L':\n",
    "            change = np.array([0,-1])\n",
    "        elif direction == 'D':\n",
    "            change = np.array([1,0])\n",
    "        elif direction == 'U':\n",
    "            change = np.array([-1,0])\n",
    "        for _ in range(int(steps)):\n",
    "            list_changes.append(change)\n",
    "            \n",
    "    return list_changes"
   ]
  },
  {
   "cell_type": "code",
   "execution_count": 6,
   "metadata": {},
   "outputs": [],
   "source": [
    "def move(H_pos, T_pos):\n",
    "    if np.max(np.abs(T_pos - H_pos)) >= 2:\n",
    "        T_change = np.array([0,0])\n",
    "        if H_pos[0] - T_pos[0] >= 1:\n",
    "            T_change[0] = 1\n",
    "        elif H_pos[0] - T_pos[0] <= -1:\n",
    "            T_change[0] = -1 \n",
    "        if H_pos[1] - T_pos[1] >= 1:\n",
    "            T_change[1] = 1\n",
    "        elif H_pos[1] - T_pos[1] <= -1:\n",
    "            T_change[1] = -1 \n",
    "        T_pos += T_change\n",
    "    return T_pos"
   ]
  },
  {
   "cell_type": "code",
   "execution_count": 7,
   "metadata": {},
   "outputs": [],
   "source": [
    "def get_n_visited_A(list_changes):\n",
    "\n",
    "    H_pos_list = np.cumsum(list_changes, axis=0)\n",
    "    i_min = np.min(H_pos_list[:,0])\n",
    "    i_max = np.max(H_pos_list[:,0])\n",
    "    j_min = np.min(H_pos_list[:,1])\n",
    "    j_max = np.max(H_pos_list[:,1])\n",
    "\n",
    "    matrix = np.zeros((i_max-i_min+1, j_max-j_min+1), dtype=\"bool\")\n",
    "\n",
    "    T_pos = np.array([0,0])\n",
    "\n",
    "    for H_pos in H_pos_list:\n",
    "        T_pos = move(H_pos, T_pos)\n",
    "        i = T_pos[0] - i_min\n",
    "        j = T_pos[1] - j_min\n",
    "        matrix[i,j] = True\n",
    "        \n",
    "    return matrix.sum()"
   ]
  },
  {
   "cell_type": "code",
   "execution_count": 8,
   "metadata": {},
   "outputs": [],
   "source": [
    "def get_n_visited_A(list_changes):\n",
    "\n",
    "    H_pos_list = np.cumsum(list_changes, axis=0)\n",
    "    i_min = np.min(H_pos_list[:,0])\n",
    "    i_max = np.max(H_pos_list[:,0])\n",
    "    j_min = np.min(H_pos_list[:,1])\n",
    "    j_max = np.max(H_pos_list[:,1])\n",
    "\n",
    "    matrix = np.zeros((i_max-i_min+1, j_max-j_min+1), dtype=\"bool\")\n",
    "\n",
    "    T_pos = np.array([0,0])\n",
    "\n",
    "    for H_pos in H_pos_list:\n",
    "        T_pos = move(H_pos, T_pos)\n",
    "        i = T_pos[0] - i_min\n",
    "        j = T_pos[1] - j_min\n",
    "        matrix[i,j] = True\n",
    "        \n",
    "    return matrix.sum()"
   ]
  },
  {
   "cell_type": "code",
   "execution_count": 9,
   "metadata": {},
   "outputs": [],
   "source": [
    "def get_n_visited_B(list_changes):\n",
    "\n",
    "    H_pos_list = np.cumsum(list_changes, axis=0)\n",
    "    i_min = np.min(H_pos_list[:,0])\n",
    "    i_max = np.max(H_pos_list[:,0])\n",
    "    j_min = np.min(H_pos_list[:,1])\n",
    "    j_max = np.max(H_pos_list[:,1])\n",
    "\n",
    "    matrix = np.zeros((i_max-i_min+1, j_max-j_min+1), dtype=\"bool\")\n",
    "\n",
    "    pos_H_to_9 = np.zeros((10,2), dtype=\"int\")\n",
    "\n",
    "    for H_pos in H_pos_list:\n",
    "        pos_H_to_9[0,:] = H_pos\n",
    "        for i in range(1, 9+1):\n",
    "            pos_H_to_9[i,:] = move(pos_H_to_9[i-1,:], pos_H_to_9[i,:])\n",
    "        i = pos_H_to_9[-1,0] - i_min\n",
    "        j = pos_H_to_9[-1,1] - j_min\n",
    "        matrix[i,j] = True\n",
    "        \n",
    "    return matrix.sum()"
   ]
  },
  {
   "cell_type": "code",
   "execution_count": 10,
   "metadata": {},
   "outputs": [
    {
     "name": "stdout",
     "output_type": "stream",
     "text": [
      "13\n",
      "1\n"
     ]
    }
   ],
   "source": [
    "list_changes_test = get_list_changes(data_test)\n",
    "print(get_n_visited_A(list_changes_test))\n",
    "print(get_n_visited_B(list_changes_test))"
   ]
  },
  {
   "cell_type": "code",
   "execution_count": 11,
   "metadata": {},
   "outputs": [
    {
     "name": "stdout",
     "output_type": "stream",
     "text": [
      "88\n",
      "36\n"
     ]
    }
   ],
   "source": [
    "list_changes_test2 = get_list_changes(data_test2)\n",
    "print(get_n_visited_A(list_changes_test2))\n",
    "print(get_n_visited_B(list_changes_test2))"
   ]
  },
  {
   "cell_type": "code",
   "execution_count": 12,
   "metadata": {},
   "outputs": [
    {
     "name": "stdout",
     "output_type": "stream",
     "text": [
      "6311\n",
      "2482\n"
     ]
    }
   ],
   "source": [
    "list_changes = get_list_changes(data)\n",
    "print(get_n_visited_A(list_changes))\n",
    "print(get_n_visited_B(list_changes))"
   ]
  }
 ],
 "metadata": {
  "kernelspec": {
   "display_name": "Python 3",
   "language": "python",
   "name": "python3"
  },
  "language_info": {
   "codemirror_mode": {
    "name": "ipython",
    "version": 3
   },
   "file_extension": ".py",
   "mimetype": "text/x-python",
   "name": "python",
   "nbconvert_exporter": "python",
   "pygments_lexer": "ipython3",
   "version": "3.8.5"
  }
 },
 "nbformat": 4,
 "nbformat_minor": 4
}
