{
 "cells": [
  {
   "cell_type": "code",
   "execution_count": 1,
   "metadata": {},
   "outputs": [],
   "source": [
    "import numpy as np"
   ]
  },
  {
   "cell_type": "code",
   "execution_count": 2,
   "metadata": {},
   "outputs": [],
   "source": [
    "with open (\"10_test.txt\") as f:\n",
    "    data_test = f.readlines()"
   ]
  },
  {
   "cell_type": "code",
   "execution_count": 3,
   "metadata": {},
   "outputs": [],
   "source": [
    "with open (\"10.txt\") as f:\n",
    "    data = f.readlines()"
   ]
  },
  {
   "cell_type": "code",
   "execution_count": 4,
   "metadata": {},
   "outputs": [],
   "source": [
    "def get_signals(data):\n",
    "    signal_during_execution = []\n",
    "    signal = 1\n",
    "    for line in data:\n",
    "        if line[-1] == \"\\n\":\n",
    "            line = line[:-1]\n",
    "        line_parts = line.split()\n",
    "        if len(line_parts) == 1 and line_parts[0] == \"noop\":\n",
    "            signal_during_execution.append(signal)\n",
    "        elif len(line_parts) == 2 and line_parts[0] == \"addx\":\n",
    "            signal_during_execution.append(signal)\n",
    "            signal_during_execution.append(signal)\n",
    "            signal += int(line_parts[1])\n",
    "        else:\n",
    "            raise Exception\n",
    "    return np.array(signal_during_execution)"
   ]
  },
  {
   "cell_type": "code",
   "execution_count": 5,
   "metadata": {},
   "outputs": [],
   "source": [
    "def sum_signal_strengh(signals):\n",
    "    rel_signals = signals[19:][::40]\n",
    "    rel_cycles = np.array([20 + 40*i for i in range(len(rel_signals))])\n",
    "    return np.sum(rel_signals*rel_cycles)"
   ]
  },
  {
   "cell_type": "code",
   "execution_count": 6,
   "metadata": {},
   "outputs": [],
   "source": [
    "def print_screen(signals):\n",
    "    for i in range(6):\n",
    "        right  = signals[i*40:(i+1)*40] + 1 == np.arange(len(signals[:40]))\n",
    "        left   = signals[i*40:(i+1)*40] - 1 == np.arange(len(signals[:40]))\n",
    "        center = signals[i*40:(i+1)*40] == np.arange(len(signals[:40]))\n",
    "        bool_i = np.logical_or(np.logical_or(center, left), right)\n",
    "        screen_i = \"\".join(['#' if pos else \".\" for pos in bool_i])\n",
    "        print(screen_i)"
   ]
  },
  {
   "cell_type": "code",
   "execution_count": 7,
   "metadata": {},
   "outputs": [
    {
     "data": {
      "text/plain": [
       "13140"
      ]
     },
     "execution_count": 7,
     "metadata": {},
     "output_type": "execute_result"
    }
   ],
   "source": [
    "signals_test = get_signals(data_test)\n",
    "sum_signal_strengh(signals_test)"
   ]
  },
  {
   "cell_type": "code",
   "execution_count": 8,
   "metadata": {},
   "outputs": [
    {
     "name": "stdout",
     "output_type": "stream",
     "text": [
      "##..##..##..##..##..##..##..##..##..##..\n",
      "###...###...###...###...###...###...###.\n",
      "####....####....####....####....####....\n",
      "#####.....#####.....#####.....#####.....\n",
      "######......######......######......####\n",
      "#######.......#######.......#######.....\n"
     ]
    }
   ],
   "source": [
    "print_screen(signals_test)"
   ]
  },
  {
   "cell_type": "code",
   "execution_count": 9,
   "metadata": {},
   "outputs": [
    {
     "data": {
      "text/plain": [
       "12640"
      ]
     },
     "execution_count": 9,
     "metadata": {},
     "output_type": "execute_result"
    }
   ],
   "source": [
    "signals = get_signals(data)\n",
    "sum_signal_strengh(signals)"
   ]
  },
  {
   "cell_type": "code",
   "execution_count": 10,
   "metadata": {},
   "outputs": [
    {
     "name": "stdout",
     "output_type": "stream",
     "text": [
      "####.#..#.###..####.#....###....##.###..\n",
      "#....#..#.#..#....#.#....#..#....#.#..#.\n",
      "###..####.###....#..#....#..#....#.#..#.\n",
      "#....#..#.#..#..#...#....###.....#.###..\n",
      "#....#..#.#..#.#....#....#.#..#..#.#.#..\n",
      "####.#..#.###..####.####.#..#..##..#..#.\n"
     ]
    }
   ],
   "source": [
    "print_screen(signals)"
   ]
  }
 ],
 "metadata": {
  "kernelspec": {
   "display_name": "Python 3",
   "language": "python",
   "name": "python3"
  },
  "language_info": {
   "codemirror_mode": {
    "name": "ipython",
    "version": 3
   },
   "file_extension": ".py",
   "mimetype": "text/x-python",
   "name": "python",
   "nbconvert_exporter": "python",
   "pygments_lexer": "ipython3",
   "version": "3.8.5"
  }
 },
 "nbformat": 4,
 "nbformat_minor": 4
}
