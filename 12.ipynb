{
 "cells": [
  {
   "cell_type": "code",
   "execution_count": 1,
   "metadata": {},
   "outputs": [],
   "source": [
    "import time\n",
    "import numpy as np"
   ]
  },
  {
   "cell_type": "code",
   "execution_count": 2,
   "metadata": {},
   "outputs": [],
   "source": [
    "def read_input(filename):\n",
    "    \n",
    "    with open(filename) as f:\n",
    "        lines = f.readlines()\n",
    "        \n",
    "    start = find_letter(\"S\", lines)\n",
    "    end = find_letter(\"E\", lines)\n",
    "    \n",
    "    array = np.zeros((len(lines), len(lines[0])-1), dtype=\"int\")\n",
    "    \n",
    "    for i, line in enumerate(lines):\n",
    "        if line[-1] == \"\\n\":\n",
    "            line = line[:-1]\n",
    "        for j, letter in enumerate(line):\n",
    "            array[i,j] = ord(letter) - ord(\"a\")\n",
    "            \n",
    "    array[start] = ord(\"a\") - ord(\"a\")\n",
    "    array[end] = ord(\"z\") - ord(\"a\")\n",
    "    \n",
    "    return array, start, end\n",
    "\n",
    "\n",
    "def find_letter(letter_search, lines):\n",
    "    for i, line in enumerate(lines):\n",
    "        for j, letter in enumerate(line):\n",
    "            if letter == letter_search:\n",
    "                return (i,j)\n",
    "\n",
    "\n",
    "def extend_path_i(array, path, pos, new_pos, paths, not_vis):\n",
    "    if array[new_pos] <= array[pos] + 1 and new_pos in not_vis:\n",
    "        new_path = path.copy()\n",
    "        new_path.append(new_pos)\n",
    "        paths.append(new_path)\n",
    "        not_vis.remove(new_pos)\n",
    "    return paths, not_vis\n",
    "            \n",
    "            \n",
    "def extend_path(array, path, not_vis):\n",
    "    paths = []\n",
    "    pos = path[-1]\n",
    "    n, m = array.shape\n",
    "    if pos[0] > 0:\n",
    "        new_pos = (pos[0]-1, pos[1])\n",
    "        paths, not_vis = extend_path_i(array, path, pos, new_pos, paths, not_vis)\n",
    "    if pos[1] > 0:\n",
    "        new_pos = (pos[0], pos[1]-1)\n",
    "        paths, not_vis = extend_path_i(array, path, pos, new_pos, paths, not_vis)\n",
    "    if pos[0] < n-1:\n",
    "        new_pos = (pos[0]+1, pos[1])\n",
    "        paths, not_vis = extend_path_i(array, path, pos, new_pos, paths, not_vis)\n",
    "    if pos[1] < m-1:\n",
    "        new_pos = (pos[0], pos[1]+1)\n",
    "        paths, not_vis = extend_path_i(array, path, pos, new_pos, paths, not_vis)\n",
    "    return paths, not_vis\n",
    "\n",
    "\n",
    "def arrived_at_end(paths_list, end):\n",
    "    for path in paths_list:\n",
    "        if path[-1] == end:\n",
    "            return True\n",
    "    return False\n",
    "\n",
    "\n",
    "def not_visited(array, start):\n",
    "    n, m = array.shape\n",
    "    not_vis = []\n",
    "    for i in range(n):\n",
    "        for j in range(m):\n",
    "            if (i,j) != start:\n",
    "                not_vis.append((i,j))\n",
    "    return not_vis"
   ]
  },
  {
   "cell_type": "code",
   "execution_count": 3,
   "metadata": {},
   "outputs": [],
   "source": [
    "def len_shortest_path(array, start, end):\n",
    "    \n",
    "    not_vis = not_visited(array, start)\n",
    "\n",
    "    paths_list = [[start]]\n",
    "    i = 0\n",
    "    while not arrived_at_end(paths_list, end):\n",
    "        new_paths_list = []\n",
    "        for path in paths_list:\n",
    "            new_paths, not_vis = extend_path(array, path, not_vis)\n",
    "            new_paths_list.extend(new_paths)\n",
    "        paths_list = new_paths_list\n",
    "        if len(paths_list) == 0:\n",
    "            return np.inf\n",
    "        i += 1\n",
    "    \n",
    "    return i"
   ]
  },
  {
   "cell_type": "code",
   "execution_count": 4,
   "metadata": {},
   "outputs": [
    {
     "data": {
      "text/plain": [
       "31"
      ]
     },
     "execution_count": 4,
     "metadata": {},
     "output_type": "execute_result"
    }
   ],
   "source": [
    "array_test, start_test, end_test = read_input(\"12_test.txt\")\n",
    "\n",
    "len_shortest_path(array_test, start_test, end_test)"
   ]
  },
  {
   "cell_type": "code",
   "execution_count": 5,
   "metadata": {},
   "outputs": [
    {
     "data": {
      "text/plain": [
       "352"
      ]
     },
     "execution_count": 5,
     "metadata": {},
     "output_type": "execute_result"
    }
   ],
   "source": [
    "array, start, end = read_input(\"12.txt\")\n",
    "\n",
    "len_shortest_path(array, start, end)"
   ]
  },
  {
   "cell_type": "code",
   "execution_count": 6,
   "metadata": {},
   "outputs": [
    {
     "data": {
      "text/plain": [
       "29"
      ]
     },
     "execution_count": 6,
     "metadata": {},
     "output_type": "execute_result"
    }
   ],
   "source": [
    "shortest_path = len_shortest_path(array_test, start_test, end_test)\n",
    "n, m = array_test.shape\n",
    "for i in range(n):\n",
    "    for j in range(m):\n",
    "        if array_test[i,j] == 0:\n",
    "            start_var_test = (i,j)\n",
    "            len_path = len_shortest_path(array_test, start_var_test, end_test)\n",
    "            if len_path < shortest_path:\n",
    "                shortest_path = len_path\n",
    "shortest_path"
   ]
  },
  {
   "cell_type": "code",
   "execution_count": 7,
   "metadata": {},
   "outputs": [
    {
     "data": {
      "text/plain": [
       "345"
      ]
     },
     "execution_count": 7,
     "metadata": {},
     "output_type": "execute_result"
    }
   ],
   "source": [
    "shortest_path = len_shortest_path(array, start, end)\n",
    "n, m = array.shape\n",
    "for i in range(n):\n",
    "    for j in range(m):\n",
    "        if array[i,j] == 0:\n",
    "            start_var = (i,j)\n",
    "            len_path = len_shortest_path(array, start_var, end)\n",
    "            if len_path < shortest_path:\n",
    "                shortest_path = len_path\n",
    "shortest_path"
   ]
  }
 ],
 "metadata": {
  "kernelspec": {
   "display_name": "Python 3",
   "language": "python",
   "name": "python3"
  },
  "language_info": {
   "codemirror_mode": {
    "name": "ipython",
    "version": 3
   },
   "file_extension": ".py",
   "mimetype": "text/x-python",
   "name": "python",
   "nbconvert_exporter": "python",
   "pygments_lexer": "ipython3",
   "version": "3.8.5"
  }
 },
 "nbformat": 4,
 "nbformat_minor": 4
}
