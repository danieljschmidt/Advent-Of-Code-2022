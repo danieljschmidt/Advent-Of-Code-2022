{
 "cells": [
  {
   "cell_type": "code",
   "execution_count": 1,
   "metadata": {},
   "outputs": [],
   "source": [
    "import numpy as np\n",
    "import time"
   ]
  },
  {
   "cell_type": "code",
   "execution_count": 2,
   "metadata": {},
   "outputs": [],
   "source": [
    "class Monkey:\n",
    "    \n",
    "    def __init__(self, starting_items, mult, add, power, div, m_true, m_false):\n",
    "        self.items   = starting_items\n",
    "        self.mult    = mult\n",
    "        self.add     = add\n",
    "        self.power   = power\n",
    "        self.div     = div\n",
    "        self.m_true  = m_true\n",
    "        self.m_false = m_false\n",
    "        self.inspections = 0\n",
    "        \n",
    "    def deal_with_item(self, monkeys, div=3, lcm=None):\n",
    "        item = self.items.pop(0)\n",
    "        new_level = int((item**self.power*self.mult + self.add)//div)\n",
    "        if lcm is not None:\n",
    "            new_level = new_level % lcm\n",
    "        if new_level%self.div == 0:\n",
    "            monkeys[self.m_true].items.append(new_level)\n",
    "        else:\n",
    "            monkeys[self.m_false].items.append(new_level)\n",
    "        self.inspections += 1\n",
    "        \n",
    "    def one_round(self, monkeys, div=3, lcm=None):\n",
    "        while True:\n",
    "            if len(self.items) == 0:\n",
    "                break\n",
    "            self.deal_with_item(monkeys, div, lcm)"
   ]
  },
  {
   "cell_type": "markdown",
   "metadata": {},
   "source": [
    "## Part 1: Test data"
   ]
  },
  {
   "cell_type": "code",
   "execution_count": 3,
   "metadata": {},
   "outputs": [
    {
     "name": "stdout",
     "output_type": "stream",
     "text": [
      "10605\n"
     ]
    }
   ],
   "source": [
    "a0 = Monkey(\n",
    "    [79, 98],\n",
    "    19, 0, 1, 23, 2, 3\n",
    ")\n",
    "\n",
    "a1 = Monkey(\n",
    "    [54, 65, 75, 74],\n",
    "    1, 6, 1, 19, 2, 0\n",
    ")\n",
    "\n",
    "a2 = Monkey(\n",
    "    [79, 60, 97],\n",
    "    1, 0, 2, 13, 1, 3\n",
    ")\n",
    "\n",
    "a3 = Monkey(\n",
    "    [74],\n",
    "    1, 3, 1, 17, 0, 1\n",
    ")\n",
    "\n",
    "monkeys_test = [a0, a1, a2, a3]\n",
    "\n",
    "for _ in range(20):\n",
    "    for i, monkey in enumerate(monkeys_test):\n",
    "        monkey.one_round(monkeys_test)\n",
    "\n",
    "max1, max2 = sorted([monkey.inspections for monkey in monkeys_test], reverse=True)[:2]\n",
    "print(max1 * max2)"
   ]
  },
  {
   "cell_type": "markdown",
   "metadata": {},
   "source": [
    "## Part 2: Test data"
   ]
  },
  {
   "cell_type": "code",
   "execution_count": 4,
   "metadata": {},
   "outputs": [
    {
     "name": "stdout",
     "output_type": "stream",
     "text": [
      "2713310158\n"
     ]
    }
   ],
   "source": [
    "a0 = Monkey(\n",
    "    [79, 98],\n",
    "    19, 0, 1, 23, 2, 3\n",
    ")\n",
    "\n",
    "a1 = Monkey(\n",
    "    [54, 65, 75, 74],\n",
    "    1, 6, 1, 19, 2, 0\n",
    ")\n",
    "\n",
    "a2 = Monkey(\n",
    "    [79, 60, 97],\n",
    "    1, 0, 2, 13, 1, 3\n",
    ")\n",
    "\n",
    "a3 = Monkey(\n",
    "    [74],\n",
    "    1, 3, 1, 17, 0, 1\n",
    ")\n",
    "\n",
    "monkeys_test = [a0, a1, a2, a3]\n",
    "\n",
    "# I had to copy the least common multiple trick from https://pastebin.com/ywSE4dZE\n",
    "div_prod = 1\n",
    "for test_div in [monkey.div for monkey in monkeys_test]:\n",
    "    div_prod = div_prod * test_div\n",
    "\n",
    "for _ in range(10000):\n",
    "    for i, monkey in enumerate(monkeys_test):\n",
    "        monkey.one_round(monkeys_test, div=1, lcm=div_prod)\n",
    "\n",
    "max1, max2 = sorted([monkey.inspections for monkey in monkeys_test], reverse=True)[:2]\n",
    "print(max1 * max2)"
   ]
  },
  {
   "cell_type": "markdown",
   "metadata": {},
   "source": [
    "## Part 1: Input data"
   ]
  },
  {
   "cell_type": "code",
   "execution_count": 5,
   "metadata": {},
   "outputs": [
    {
     "name": "stdout",
     "output_type": "stream",
     "text": [
      "78960\n"
     ]
    }
   ],
   "source": [
    "m0 = Monkey(\n",
    "    [54, 82, 90, 88, 86, 54],\n",
    "    7, 0, 1, 11, 2, 6\n",
    ")\n",
    "\n",
    "m1 = Monkey(\n",
    "    [91, 65],\n",
    "    13, 0, 1, 5, 7, 4\n",
    ")\n",
    "\n",
    "m2 = Monkey(\n",
    "    [62, 54, 57, 92, 83, 63, 63],\n",
    "    1, 1, 1, 7, 1, 7\n",
    ")\n",
    "\n",
    "m3 = Monkey(\n",
    "    [67, 72, 68],\n",
    "    1, 0, 2, 2, 0, 6\n",
    ")\n",
    "\n",
    "m4 = Monkey(\n",
    "    [68, 89, 90, 86, 84, 57, 72, 84],\n",
    "    1, 7, 1, 17, 3, 5\n",
    ")\n",
    "\n",
    "m5 = Monkey(\n",
    "    [79, 83, 64, 58],\n",
    "    1, 6, 1, 13, 3, 0\n",
    ")\n",
    "\n",
    "m6 = Monkey(\n",
    "    [96, 72, 89, 70, 88],\n",
    "    1, 4, 1, 3, 1, 2\n",
    ")\n",
    "\n",
    "m7 = Monkey(\n",
    "    [79],\n",
    "    1, 8, 1, 19, 4, 5\n",
    ")\n",
    "\n",
    "monkeys = [m0, m1, m2, m3, m4, m5, m6, m7]\n",
    "\n",
    "for _ in range(20):\n",
    "    for monkey in monkeys:\n",
    "        monkey.one_round(monkeys)\n",
    "        \n",
    "max1, max2 = sorted([monkey.inspections for monkey in monkeys], reverse=True)[:2]\n",
    "print(max1 * max2)"
   ]
  },
  {
   "cell_type": "markdown",
   "metadata": {},
   "source": [
    "## Part 2: Input data"
   ]
  },
  {
   "cell_type": "code",
   "execution_count": 6,
   "metadata": {},
   "outputs": [
    {
     "name": "stdout",
     "output_type": "stream",
     "text": [
      "14561971968\n"
     ]
    }
   ],
   "source": [
    "m0 = Monkey(\n",
    "    [54, 82, 90, 88, 86, 54],\n",
    "    7, 0, 1, 11, 2, 6\n",
    ")\n",
    "\n",
    "m1 = Monkey(\n",
    "    [91, 65],\n",
    "    13, 0, 1, 5, 7, 4\n",
    ")\n",
    "\n",
    "m2 = Monkey(\n",
    "    [62, 54, 57, 92, 83, 63, 63],\n",
    "    1, 1, 1, 7, 1, 7\n",
    ")\n",
    "\n",
    "m3 = Monkey(\n",
    "    [67, 72, 68],\n",
    "    1, 0, 2, 2, 0, 6\n",
    ")\n",
    "\n",
    "m4 = Monkey(\n",
    "    [68, 89, 90, 86, 84, 57, 72, 84],\n",
    "    1, 7, 1, 17, 3, 5\n",
    ")\n",
    "\n",
    "m5 = Monkey(\n",
    "    [79, 83, 64, 58],\n",
    "    1, 6, 1, 13, 3, 0\n",
    ")\n",
    "\n",
    "m6 = Monkey(\n",
    "    [96, 72, 89, 70, 88],\n",
    "    1, 4, 1, 3, 1, 2\n",
    ")\n",
    "\n",
    "m7 = Monkey(\n",
    "    [79],\n",
    "    1, 8, 1, 19, 4, 5\n",
    ")\n",
    "\n",
    "monkeys = [m0, m1, m2, m3, m4, m5, m6, m7]\n",
    "\n",
    "div_prod = 1\n",
    "for test_div in [monkey.div for monkey in monkeys]:\n",
    "    div_prod = div_prod * test_div\n",
    "\n",
    "for _ in range(10000):\n",
    "    for monkey in monkeys:\n",
    "        monkey.one_round(monkeys, div=1, lcm=div_prod)\n",
    "        \n",
    "max1, max2 = sorted([monkey.inspections for monkey in monkeys], reverse=True)[:2]\n",
    "print(max1 * max2)"
   ]
  },
  {
   "cell_type": "code",
   "execution_count": null,
   "metadata": {},
   "outputs": [],
   "source": []
  }
 ],
 "metadata": {
  "kernelspec": {
   "display_name": "Python 3",
   "language": "python",
   "name": "python3"
  },
  "language_info": {
   "codemirror_mode": {
    "name": "ipython",
    "version": 3
   },
   "file_extension": ".py",
   "mimetype": "text/x-python",
   "name": "python",
   "nbconvert_exporter": "python",
   "pygments_lexer": "ipython3",
   "version": "3.8.5"
  }
 },
 "nbformat": 4,
 "nbformat_minor": 4
}
