{
 "cells": [
  {
   "cell_type": "code",
   "execution_count": 1,
   "metadata": {},
   "outputs": [],
   "source": [
    "import numpy as np"
   ]
  },
  {
   "cell_type": "code",
   "execution_count": 2,
   "metadata": {},
   "outputs": [],
   "source": [
    "with open(\"6.txt\") as f:\n",
    "    letters = f.readlines()[0]"
   ]
  },
  {
   "cell_type": "code",
   "execution_count": 3,
   "metadata": {},
   "outputs": [
    {
     "name": "stdout",
     "output_type": "stream",
     "text": [
      "1640\n"
     ]
    }
   ],
   "source": [
    "i = 0\n",
    "while True:\n",
    "    \n",
    "    letters_4 = np.array(list(letters[i:i+4]))\n",
    "    duplicates_4 = np.zeros(4, dtype='bool')\n",
    "    for j in range(4):\n",
    "        duplicates_4[j] = np.sum(letters_4 == letters_4[j]) > 1\n",
    "        \n",
    "    if not np.any(duplicates_4):\n",
    "        break\n",
    "        \n",
    "    i += 1\n",
    "\n",
    "print(i+4)"
   ]
  },
  {
   "cell_type": "code",
   "execution_count": 4,
   "metadata": {},
   "outputs": [
    {
     "name": "stdout",
     "output_type": "stream",
     "text": [
      "3613\n"
     ]
    }
   ],
   "source": [
    "i = 0\n",
    "while True:\n",
    "    \n",
    "    letters_14 = np.array(list(letters[i:i+14]))\n",
    "    duplicates_14 = np.zeros(14, dtype='bool')\n",
    "    for j in range(14):\n",
    "        duplicates_14[j] = np.sum(letters_14 == letters_14[j]) > 1\n",
    "        \n",
    "    if not np.any(duplicates_14):\n",
    "        break\n",
    "        \n",
    "    i += 1\n",
    "\n",
    "print(i+14)"
   ]
  },
  {
   "cell_type": "code",
   "execution_count": null,
   "metadata": {},
   "outputs": [],
   "source": []
  }
 ],
 "metadata": {
  "kernelspec": {
   "display_name": "Python 3",
   "language": "python",
   "name": "python3"
  },
  "language_info": {
   "codemirror_mode": {
    "name": "ipython",
    "version": 3
   },
   "file_extension": ".py",
   "mimetype": "text/x-python",
   "name": "python",
   "nbconvert_exporter": "python",
   "pygments_lexer": "ipython3",
   "version": "3.8.5"
  }
 },
 "nbformat": 4,
 "nbformat_minor": 4
}
