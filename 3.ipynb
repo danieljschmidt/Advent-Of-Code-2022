{
 "cells": [
  {
   "cell_type": "code",
   "execution_count": 1,
   "metadata": {},
   "outputs": [],
   "source": [
    "import numpy as np"
   ]
  },
  {
   "cell_type": "code",
   "execution_count": 2,
   "metadata": {},
   "outputs": [],
   "source": [
    "with open('3.txt') as f:\n",
    "    lines = f.readlines()"
   ]
  },
  {
   "cell_type": "code",
   "execution_count": 3,
   "metadata": {},
   "outputs": [],
   "source": [
    "abc = \"abcdefghijklmnopqrstuvwxyz\"\n",
    "\n",
    "ABC = abc.upper()\n",
    "\n",
    "abcABC = abc + ABC\n",
    "\n",
    "abc_dict = {}\n",
    "for i in range(52):\n",
    "    abc_dict[abcABC[i]] = i+1\n",
    "    \n",
    "def abc2num(abc): return abc_dict[abc]\n",
    "def num2abc(num): return abcABC[num-1]"
   ]
  },
  {
   "cell_type": "code",
   "execution_count": 4,
   "metadata": {},
   "outputs": [],
   "source": [
    "for i, line in enumerate(lines):\n",
    "    if line[-1] == \"\\n\":\n",
    "        lines[i] = line[:-1]"
   ]
  },
  {
   "cell_type": "code",
   "execution_count": 5,
   "metadata": {},
   "outputs": [
    {
     "name": "stdout",
     "output_type": "stream",
     "text": [
      "7848\n"
     ]
    }
   ],
   "source": [
    "letters_in_both_num = np.zeros(len(lines), dtype=\"int\")\n",
    "for i, line in enumerate(lines):\n",
    "    n_line = len(line)\n",
    "    part_1 = line[:n_line//2]\n",
    "    part_2 = line[n_line//2:]\n",
    "    for letter in part_1:\n",
    "        if letter in part_2:\n",
    "            letters_in_both_num[i] = abc2num(letter)\n",
    "            \n",
    "print(letters_in_both_num.sum())"
   ]
  },
  {
   "cell_type": "code",
   "execution_count": 6,
   "metadata": {},
   "outputs": [
    {
     "name": "stdout",
     "output_type": "stream",
     "text": [
      "2616\n"
     ]
    }
   ],
   "source": [
    "badges_num = np.zeros(len(lines)//3, dtype=\"int\")\n",
    "for i in range(len(lines)//3):\n",
    "    line_1 = lines[i*3]\n",
    "    line_2 = lines[i*3+1]\n",
    "    line_3 = lines[i*3+2]\n",
    "    for letter in line_1:\n",
    "        if (letter in line_2) and (letter in line_3):\n",
    "            badges_num[i] = abc2num(letter)\n",
    "            \n",
    "print(badges_num.sum())"
   ]
  },
  {
   "cell_type": "code",
   "execution_count": null,
   "metadata": {},
   "outputs": [],
   "source": []
  }
 ],
 "metadata": {
  "kernelspec": {
   "display_name": "Python 3",
   "language": "python",
   "name": "python3"
  },
  "language_info": {
   "codemirror_mode": {
    "name": "ipython",
    "version": 3
   },
   "file_extension": ".py",
   "mimetype": "text/x-python",
   "name": "python",
   "nbconvert_exporter": "python",
   "pygments_lexer": "ipython3",
   "version": "3.8.5"
  }
 },
 "nbformat": 4,
 "nbformat_minor": 4
}
