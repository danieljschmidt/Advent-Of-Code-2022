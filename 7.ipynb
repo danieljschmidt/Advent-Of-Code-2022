{
 "cells": [
  {
   "cell_type": "code",
   "execution_count": 1,
   "metadata": {},
   "outputs": [],
   "source": [
    "import numpy as np"
   ]
  },
  {
   "cell_type": "code",
   "execution_count": 2,
   "metadata": {},
   "outputs": [],
   "source": [
    "def cd(line, position):\n",
    "    parts = line.split()\n",
    "    if parts[2] == \"..\":\n",
    "        position = position[:-1]\n",
    "    elif parts[2] == \"/\":\n",
    "        position = position[:1]\n",
    "    else: \n",
    "        position.append(parts[2])\n",
    "    return position\n",
    "\n",
    "def get_ls_lines(lines, i_ls):\n",
    "    n_lines = 0\n",
    "    for j in range(i_ls+2, len(lines)):\n",
    "        if lines[j][0] != \"$\":\n",
    "            n_lines += 1\n",
    "        else:\n",
    "            break\n",
    "    return lines[i_ls+1:i_ls+n_lines+2]\n",
    "\n",
    "def ls(terminal_output):\n",
    "    dict_temp = {}\n",
    "    for line in terminal_output:\n",
    "        parts = line.split()\n",
    "        if parts[0] == \"dir\":\n",
    "            dict_temp[parts[1]] = {}\n",
    "        else:\n",
    "            dict_temp[parts[1]] = int(parts[0])\n",
    "    return dict_temp\n",
    "\n",
    "def get_dict(files_dict, position):\n",
    "    d = files_dict\n",
    "    for pos in position[:-1]:\n",
    "        d = d[pos]\n",
    "    return d\n",
    "\n",
    "def construct_files_dict(terminal_output):\n",
    "    position = [\"/\"]\n",
    "    files_dict = {\"/\" : None}\n",
    "\n",
    "    for i, line in enumerate(terminal_output):\n",
    "        if line[:4] == \"$ cd\":\n",
    "            position = cd(line, position)\n",
    "        elif line[:4] == \"$ ls\":\n",
    "            d = get_dict(files_dict, position)\n",
    "            d[position[-1]] = ls(get_ls_lines(terminal_output, i))\n",
    "\n",
    "    return files_dict\n",
    "\n",
    "def get_sizes(files_dict, sizes_list):\n",
    "    size_sum = 0\n",
    "    for key, value in files_dict.items():\n",
    "        if isinstance(value, int):\n",
    "            size_sum += value\n",
    "        elif isinstance(value, dict):\n",
    "            sizes_list = get_sizes(value, sizes_list)\n",
    "            size_sum += sizes_list[-1]\n",
    "    sizes_list.append(size_sum)\n",
    "    return sizes_list\n",
    "\n",
    "def sum_sizes_small_folders(files_dict):\n",
    "    sizes_list = get_sizes(files_dict, [])[:-1]\n",
    "    sizes = np.array(sizes_list)\n",
    "    return np.sum(sizes[sizes <= 100000])"
   ]
  },
  {
   "cell_type": "code",
   "execution_count": 3,
   "metadata": {},
   "outputs": [
    {
     "data": {
      "text/plain": [
       "95437"
      ]
     },
     "execution_count": 3,
     "metadata": {},
     "output_type": "execute_result"
    }
   ],
   "source": [
    "with open(\"7_test.txt\") as f:\n",
    "    terminal_output_test = f.readlines()\n",
    "    \n",
    "files_dict_test = construct_files_dict(terminal_output_test)\n",
    "\n",
    "sum_sizes_small_folders(files_dict_test)"
   ]
  },
  {
   "cell_type": "code",
   "execution_count": 4,
   "metadata": {},
   "outputs": [
    {
     "data": {
      "text/plain": [
       "1989474"
      ]
     },
     "execution_count": 4,
     "metadata": {},
     "output_type": "execute_result"
    }
   ],
   "source": [
    "with open(\"7.txt\") as f:\n",
    "    terminal_output = f.readlines()\n",
    "    \n",
    "files_dict = construct_files_dict(terminal_output)\n",
    "\n",
    "sum_sizes_small_folders(files_dict)"
   ]
  },
  {
   "cell_type": "code",
   "execution_count": 5,
   "metadata": {},
   "outputs": [
    {
     "data": {
      "text/plain": [
       "1111607"
      ]
     },
     "execution_count": 5,
     "metadata": {},
     "output_type": "execute_result"
    }
   ],
   "source": [
    "sizes = np.array(get_sizes(files_dict, [])[:-1])\n",
    "min_size = 30000000 + np.max(sizes) - 70000000\n",
    "folders_big_enough = sizes[sizes >= min_size]\n",
    "np.sort(folders_big_enough)[0]"
   ]
  }
 ],
 "metadata": {
  "kernelspec": {
   "display_name": "Python 3",
   "language": "python",
   "name": "python3"
  },
  "language_info": {
   "codemirror_mode": {
    "name": "ipython",
    "version": 3
   },
   "file_extension": ".py",
   "mimetype": "text/x-python",
   "name": "python",
   "nbconvert_exporter": "python",
   "pygments_lexer": "ipython3",
   "version": "3.8.5"
  }
 },
 "nbformat": 4,
 "nbformat_minor": 4
}
