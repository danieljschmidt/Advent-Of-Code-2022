{
 "cells": [
  {
   "cell_type": "code",
   "execution_count": 1,
   "metadata": {},
   "outputs": [],
   "source": [
    "import numpy as np"
   ]
  },
  {
   "cell_type": "code",
   "execution_count": 2,
   "metadata": {},
   "outputs": [],
   "source": [
    "def convert_1(str_2):\n",
    "    if str_2 == 'X':\n",
    "        return 'A'\n",
    "    elif str_2 == 'Y':\n",
    "        return 'B'\n",
    "    elif str_2 == 'Z':\n",
    "        return 'C'"
   ]
  },
  {
   "cell_type": "code",
   "execution_count": 3,
   "metadata": {},
   "outputs": [],
   "source": [
    "def convert_2(str_1, str_2x):\n",
    "    # this can be done more elegantly\n",
    "    if str_1 == 'A':\n",
    "        if str_2x == 'X':\n",
    "            str_2 = 'C'\n",
    "        elif str_2x == 'Y':\n",
    "            str_2 = 'A'\n",
    "        elif str_2x == 'Z':\n",
    "            str_2 = 'B'\n",
    "    if str_1 == 'B':\n",
    "        if str_2x == 'X':\n",
    "            str_2 = 'A'\n",
    "        elif str_2x == 'Y':\n",
    "            str_2 = 'B'\n",
    "        elif str_2x == 'Z':\n",
    "            str_2 = 'C'\n",
    "    if str_1 == 'C':\n",
    "        if str_2x == 'X':\n",
    "            str_2 = 'B'\n",
    "        elif str_2x == 'Y':\n",
    "            str_2 = 'C'\n",
    "        elif str_2x == 'Z':\n",
    "            str_2 = 'A'\n",
    "    return str_2"
   ]
  },
  {
   "cell_type": "code",
   "execution_count": 4,
   "metadata": {},
   "outputs": [],
   "source": [
    "def get_points_i(str_1, str_2):\n",
    "    \n",
    "    points_i = 0\n",
    "    \n",
    "    if str_2 == 'A':\n",
    "        points_i += 1\n",
    "    elif str_2 == 'B':\n",
    "        points_i += 2\n",
    "    elif str_2 == 'C':\n",
    "        points_i += 3\n",
    "        \n",
    "    if (str_1 == 'A' and str_2 == 'A') or (str_1 == 'B' and str_2 == 'B') or (str_1 == 'C' and str_2 == 'C'):\n",
    "        points_i += 3\n",
    "    elif (str_1 == 'C' and str_2 == 'A') or (str_1 == 'B' and str_2 == 'C') or (str_1 == 'A' and str_2 == 'B'):\n",
    "        points_i += 6\n",
    "        \n",
    "    return points_i"
   ]
  },
  {
   "cell_type": "code",
   "execution_count": 5,
   "metadata": {},
   "outputs": [],
   "source": [
    "with open('2.txt') as f:\n",
    "    lines = f.readlines()\n",
    "    \n",
    "points = np.zeros(len(lines), dtype=\"int\")"
   ]
  },
  {
   "cell_type": "code",
   "execution_count": 6,
   "metadata": {},
   "outputs": [
    {
     "name": "stdout",
     "output_type": "stream",
     "text": [
      "[9 4 9 ... 4 4 2]\n",
      "11449\n"
     ]
    }
   ],
   "source": [
    " for i, line in enumerate(lines):\n",
    "    str_1 = line[0]\n",
    "    str_2 = convert_1(line[2])\n",
    "    \n",
    "    points_i = 0\n",
    "        \n",
    "    points[i] = get_points_i(str_1, str_2)\n",
    "    \n",
    "print(points)\n",
    "print(points.sum())"
   ]
  },
  {
   "cell_type": "code",
   "execution_count": 7,
   "metadata": {},
   "outputs": [
    {
     "name": "stdout",
     "output_type": "stream",
     "text": [
      "[9 3 9 ... 3 3 6]\n",
      "13187\n"
     ]
    }
   ],
   "source": [
    " for i, line in enumerate(lines):\n",
    "    str_1 = line[0]\n",
    "    str_2 = convert_2(line[0], line[2])\n",
    "    \n",
    "    points_i = 0\n",
    "        \n",
    "    points[i] = get_points_i(str_1, str_2)\n",
    "    \n",
    "print(points)\n",
    "print(points.sum())"
   ]
  }
 ],
 "metadata": {
  "kernelspec": {
   "display_name": "Python 3",
   "language": "python",
   "name": "python3"
  },
  "language_info": {
   "codemirror_mode": {
    "name": "ipython",
    "version": 3
   },
   "file_extension": ".py",
   "mimetype": "text/x-python",
   "name": "python",
   "nbconvert_exporter": "python",
   "pygments_lexer": "ipython3",
   "version": "3.8.5"
  }
 },
 "nbformat": 4,
 "nbformat_minor": 4
}
