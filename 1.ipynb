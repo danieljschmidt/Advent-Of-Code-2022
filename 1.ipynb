{
 "cells": [
  {
   "cell_type": "code",
   "execution_count": 1,
   "metadata": {},
   "outputs": [],
   "source": [
    "import numpy as np"
   ]
  },
  {
   "cell_type": "code",
   "execution_count": 2,
   "metadata": {},
   "outputs": [
    {
     "name": "stdout",
     "output_type": "stream",
     "text": [
      "68923\n",
      "200044\n"
     ]
    }
   ],
   "source": [
    "with open('1.txt') as f:\n",
    "    lines = f.readlines()\n",
    "\n",
    "fmax = 0\n",
    "imax = -1\n",
    "\n",
    "f = 0\n",
    "i = 0\n",
    "\n",
    "f_list = []\n",
    "for line in lines:\n",
    "    if line == '\\n':\n",
    "        #print(\"{} {}\".format(i, f))\n",
    "        if f > fmax:\n",
    "            imax = i\n",
    "            fmax = f\n",
    "        f_list.append(f)\n",
    "        i = i + 1\n",
    "        f = 0\n",
    "    else:\n",
    "        f += int(line)\n",
    "        \n",
    "print(fmax)\n",
    "\n",
    "f_array = np.array(f_list)\n",
    "f_array.sort()\n",
    "\n",
    "print(f_array[-3:].sum())"
   ]
  }
 ],
 "metadata": {
  "kernelspec": {
   "display_name": "Python 3",
   "language": "python",
   "name": "python3"
  },
  "language_info": {
   "codemirror_mode": {
    "name": "ipython",
    "version": 3
   },
   "file_extension": ".py",
   "mimetype": "text/x-python",
   "name": "python",
   "nbconvert_exporter": "python",
   "pygments_lexer": "ipython3",
   "version": "3.8.5"
  }
 },
 "nbformat": 4,
 "nbformat_minor": 4
}
