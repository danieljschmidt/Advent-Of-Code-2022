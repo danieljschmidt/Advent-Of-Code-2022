{
 "cells": [
  {
   "cell_type": "code",
   "execution_count": 1,
   "metadata": {},
   "outputs": [],
   "source": [
    "import numpy as np"
   ]
  },
  {
   "cell_type": "code",
   "execution_count": 2,
   "metadata": {},
   "outputs": [],
   "source": [
    "def read_data(data):\n",
    "    \n",
    "    N = len(data)\n",
    "    \n",
    "    matrix = np.zeros((N,N), dtype=\"int\")\n",
    "    \n",
    "    for i, line in enumerate(data):\n",
    "        if line[-1] == '\\n':\n",
    "            line = line[:-1]\n",
    "        matrix[i] = [int(num_str) for num_str in line]\n",
    "            \n",
    "    return matrix"
   ]
  },
  {
   "cell_type": "code",
   "execution_count": 3,
   "metadata": {},
   "outputs": [],
   "source": [
    "matrix_0 = read_data(\n",
    "    [\"30373\",\n",
    "    \"25512\",\n",
    "    \"65332\",\n",
    "    \"33549\",\n",
    "    \"35390\"]\n",
    ")"
   ]
  },
  {
   "cell_type": "code",
   "execution_count": 4,
   "metadata": {},
   "outputs": [],
   "source": [
    "with open(\"8.txt\") as f:\n",
    "    lines = f.readlines()\n",
    "    \n",
    "matrix = read_data(lines)"
   ]
  },
  {
   "cell_type": "markdown",
   "metadata": {},
   "source": [
    "## Part I"
   ]
  },
  {
   "cell_type": "code",
   "execution_count": 5,
   "metadata": {},
   "outputs": [],
   "source": [
    "def check_ij_visible(matrix, i,j):\n",
    "    value_ij  = matrix[i,j]\n",
    "    vis_left  = value_ij > np.max(matrix[i,:j])\n",
    "    vis_up    = value_ij > np.max(matrix[:i,j])\n",
    "    vis_right = value_ij > np.max(matrix[i,j+1:])\n",
    "    vis_down  = value_ij > np.max(matrix[i+1:,j])\n",
    "    return vis_left or vis_up or vis_right or vis_down"
   ]
  },
  {
   "cell_type": "code",
   "execution_count": 6,
   "metadata": {},
   "outputs": [],
   "source": [
    "def check_matrix_visible(matrix):\n",
    "    \n",
    "    N, _ = matrix.shape\n",
    "    \n",
    "    matrix_visible = np.ones((N,N), dtype=\"bool\")\n",
    "\n",
    "    for i in range(1, N-1):\n",
    "        for j in range(1, N-1):\n",
    "            matrix_visible[i,j] = check_ij_visible(matrix, i,j)\n",
    "    \n",
    "    return matrix_visible"
   ]
  },
  {
   "cell_type": "code",
   "execution_count": 7,
   "metadata": {},
   "outputs": [
    {
     "data": {
      "text/plain": [
       "21"
      ]
     },
     "execution_count": 7,
     "metadata": {},
     "output_type": "execute_result"
    }
   ],
   "source": [
    "matrix_0_visible = check_matrix_visible(matrix_0)\n",
    "        \n",
    "np.sum(matrix_0_visible)"
   ]
  },
  {
   "cell_type": "code",
   "execution_count": 8,
   "metadata": {},
   "outputs": [
    {
     "data": {
      "text/plain": [
       "1690"
      ]
     },
     "execution_count": 8,
     "metadata": {},
     "output_type": "execute_result"
    }
   ],
   "source": [
    "matrix_visible = check_matrix_visible(matrix)\n",
    "        \n",
    "np.sum(matrix_visible)"
   ]
  },
  {
   "cell_type": "markdown",
   "metadata": {},
   "source": [
    "## Part II"
   ]
  },
  {
   "cell_type": "code",
   "execution_count": 9,
   "metadata": {},
   "outputs": [],
   "source": [
    "def score_left(matrix, i, j):\n",
    "    left = 1\n",
    "    for k in range(1, j+1):\n",
    "        if matrix[i,j] > matrix[i,j-k]:\n",
    "            left = left + 1\n",
    "        else:\n",
    "            return left\n",
    "    return left - 1\n",
    "        \n",
    "def score_right(matrix, i, j):\n",
    "    N = matrix.shape[0]\n",
    "    right = 1\n",
    "    for k in range(1, N-j):\n",
    "        if matrix[i,j] > matrix[i,j+k]:\n",
    "            right = right + 1\n",
    "        else:\n",
    "            return right\n",
    "    return right - 1\n",
    "        \n",
    "def score_up(matrix, i, j):\n",
    "    up = 1\n",
    "    for k in range(1, i+1):\n",
    "        if matrix[i,j] > matrix[i-k,j]:\n",
    "            up = up + 1\n",
    "        else:\n",
    "            return up\n",
    "    return up - 1\n",
    "        \n",
    "def score_down(matrix, i, j):\n",
    "    N = matrix.shape[0]\n",
    "    down = 1\n",
    "    for k in range(1, N-i):\n",
    "        if matrix[i,j] > matrix[i+k,j]:\n",
    "            down = down + 1\n",
    "        else:\n",
    "            return down\n",
    "    return down - 1\n",
    "        \n",
    "def scenic_score(matrix, i, j):\n",
    "    return score_left(matrix, i, j) * score_right(matrix, i, j) * score_up(matrix, i, j) * score_down(matrix, i, j)"
   ]
  },
  {
   "cell_type": "code",
   "execution_count": 10,
   "metadata": {},
   "outputs": [
    {
     "data": {
      "text/plain": [
       "4"
      ]
     },
     "execution_count": 10,
     "metadata": {},
     "output_type": "execute_result"
    }
   ],
   "source": [
    "scenic_score(matrix_0, 1, 2)"
   ]
  },
  {
   "cell_type": "code",
   "execution_count": 11,
   "metadata": {},
   "outputs": [
    {
     "data": {
      "text/plain": [
       "8"
      ]
     },
     "execution_count": 11,
     "metadata": {},
     "output_type": "execute_result"
    }
   ],
   "source": [
    "scenic_score(matrix_0, 3, 2)"
   ]
  },
  {
   "cell_type": "code",
   "execution_count": 12,
   "metadata": {},
   "outputs": [
    {
     "data": {
      "text/plain": [
       "535680"
      ]
     },
     "execution_count": 12,
     "metadata": {},
     "output_type": "execute_result"
    }
   ],
   "source": [
    "N = matrix.shape[0]\n",
    "np.max(np.array([[scenic_score(matrix, i, j) for i in range(N)] for j in range(N)]))"
   ]
  },
  {
   "cell_type": "code",
   "execution_count": null,
   "metadata": {},
   "outputs": [],
   "source": []
  }
 ],
 "metadata": {
  "kernelspec": {
   "display_name": "Python 3",
   "language": "python",
   "name": "python3"
  },
  "language_info": {
   "codemirror_mode": {
    "name": "ipython",
    "version": 3
   },
   "file_extension": ".py",
   "mimetype": "text/x-python",
   "name": "python",
   "nbconvert_exporter": "python",
   "pygments_lexer": "ipython3",
   "version": "3.8.5"
  }
 },
 "nbformat": 4,
 "nbformat_minor": 4
}
