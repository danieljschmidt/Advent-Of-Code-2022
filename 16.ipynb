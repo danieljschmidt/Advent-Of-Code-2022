{
 "cells": [
  {
   "cell_type": "code",
   "execution_count": 1,
   "metadata": {},
   "outputs": [],
   "source": [
    "import math\n",
    "import time\n",
    "import numpy as np\n",
    "\n",
    "from itertools import permutations\n",
    "from numba import njit"
   ]
  },
  {
   "cell_type": "code",
   "execution_count": 2,
   "metadata": {},
   "outputs": [],
   "source": [
    "def read_input(filename):\n",
    "    \n",
    "    with open(filename) as f:\n",
    "        lines = f.readlines()\n",
    "        \n",
    "    big_dict = {}\n",
    "\n",
    "    for line in lines:\n",
    "        line_parts = line.split()\n",
    "        valve_name = line_parts[1]\n",
    "        flow_rate = int(line_parts[4].split(\"=\")[1].strip(';'))\n",
    "        neighbors = [part.strip(',') for part in line_parts[9:]]\n",
    "        d = {\n",
    "            'flow_rate': flow_rate,\n",
    "            'neighbors': neighbors\n",
    "        }\n",
    "        big_dict[valve_name] = d\n",
    "            \n",
    "    return big_dict\n",
    "\n",
    "\n",
    "def find_shortest_path(start, end, big_dict):\n",
    "    \n",
    "    paths_list = [[start]]\n",
    "    \n",
    "    if start == end:\n",
    "        return 0\n",
    "\n",
    "    i = 0\n",
    "    \n",
    "    while True:\n",
    "        \n",
    "        i = i+1\n",
    "        new_paths_list = []\n",
    "        \n",
    "        for path in paths_list:\n",
    "            \n",
    "            for neighbor in big_dict[path[-1]][\"neighbors\"]:\n",
    "                if not neighbor in path:\n",
    "                    \n",
    "                    new_path = path.copy()\n",
    "                    new_path.append(neighbor)\n",
    "                    new_paths_list.append(new_path)\n",
    "                    \n",
    "                    if neighbor == end:\n",
    "                        return i\n",
    "                    \n",
    "        paths_list = new_paths_list\n",
    "        \n",
    "        \n",
    "def get_small_network(big_dict):\n",
    "\n",
    "    valves_nonzero = [valve for valve in big_dict.keys() if big_dict[valve]['flow_rate']>0]\n",
    "    relevant_valves = valves_nonzero.copy()\n",
    "    relevant_valves.insert(0, 'AA')\n",
    "\n",
    "    shortest_paths = np.array([[find_shortest_path(start, end, big_dict) for end in relevant_valves] for start in relevant_valves])\n",
    "\n",
    "    shortest_times = shortest_paths.copy()\n",
    "    for j in range(1, 6+1):\n",
    "        shortest_times[:,j] += 1\n",
    "\n",
    "    flow_rates = np.array([big_dict[valve]['flow_rate'] for valve in relevant_valves])\n",
    "    \n",
    "    return relevant_valves, shortest_times, flow_rates\n",
    "\n",
    "\n",
    "@njit\n",
    "def get_pressure(valve_order, flow_rates, shortest_times):\n",
    "    time = 30\n",
    "    pressure = 0\n",
    "    \n",
    "    valve_2 = valve_order[0]\n",
    "    time += - shortest_times[0, valve_2]\n",
    "    pressure += flow_rates[valve_2]*time\n",
    "    \n",
    "    for valve_1, valve_2 in zip(valve_order[:-1], valve_order[1:]):\n",
    "        time += - shortest_times[valve_1, valve_2]\n",
    "        if time > 0:\n",
    "            pressure += flow_rates[valve_2]*time\n",
    "        else:\n",
    "            break\n",
    "    return pressure"
   ]
  },
  {
   "cell_type": "code",
   "execution_count": 3,
   "metadata": {},
   "outputs": [
    {
     "name": "stdout",
     "output_type": "stream",
     "text": [
      "1651\n",
      "['DD', 'BB', 'JJ', 'HH', 'EE', 'CC']\n"
     ]
    }
   ],
   "source": [
    "big_dict_test = read_input(\"16_test.txt\")\n",
    "\n",
    "rel_valves_test, shortest_times_test, flow_rates_test = get_small_network(big_dict_test)\n",
    "\n",
    "n_nonzero_test = len(rel_valves_test[1:])\n",
    "results_test = np.zeros(math.factorial(n_nonzero_test), dtype=\"int\")\n",
    "for i, valve_order in enumerate(permutations(range(1,n_nonzero_test+1))):\n",
    "    valve_order = list(valve_order)\n",
    "    valve_order.insert(0, 0)\n",
    "    valve_order = np.array(valve_order)\n",
    "    results_test[i] = get_pressure(valve_order, flow_rates_test, shortest_times_test)\n",
    "    \n",
    "print(np.max(results_test))\n",
    "\n",
    "valve_order_max = list(permutations(range(1,n_nonzero_test+1)))[np.argmax(results_test)]\n",
    "print([rel_valves_test[i] for i in valve_order_max])"
   ]
  },
  {
   "cell_type": "code",
   "execution_count": 4,
   "metadata": {},
   "outputs": [],
   "source": [
    "big_dict = read_input(\"16.txt\")\n",
    "\n",
    "rel_valves, shortest_times, flow_rates = get_small_network(big_dict)"
   ]
  },
  {
   "cell_type": "code",
   "execution_count": 5,
   "metadata": {},
   "outputs": [
    {
     "name": "stdout",
     "output_type": "stream",
     "text": [
      "3.316317558288574\n"
     ]
    }
   ],
   "source": [
    "max_pressure = 0\n",
    "\n",
    "t0 = time.time()\n",
    "\n",
    "n_nonzero = len(flow_rates[1:])\n",
    "for i, valve_order in enumerate(permutations(range(1,n_nonzero+1))):\n",
    "    valve_order = np.array(valve_order)\n",
    "    pressure = get_pressure(valve_order, flow_rates, shortest_times)\n",
    "    if pressure > max_pressure:\n",
    "        max_pressure = pressure\n",
    "    if i > 10**6:\n",
    "        break\n",
    "        \n",
    "print(time.time() - t0)"
   ]
  },
  {
   "cell_type": "markdown",
   "metadata": {},
   "source": [
    "This is how many hours it would take to solve the optimization problem for the input data using the algorithm above:"
   ]
  },
  {
   "cell_type": "code",
   "execution_count": 6,
   "metadata": {},
   "outputs": [
    {
     "data": {
      "text/plain": [
       "1207.8900687002563"
      ]
     },
     "execution_count": 6,
     "metadata": {},
     "output_type": "execute_result"
    }
   ],
   "source": [
    "(time.time() - t0)/60/60*math.factorial(15)/10**6"
   ]
  },
  {
   "cell_type": "code",
   "execution_count": 7,
   "metadata": {},
   "outputs": [
    {
     "data": {
      "text/plain": [
       "array([ 0,  9, 20, 13, 16, 19,  8, 21, 11, 23, 14, 18, 25,  3, 22,  5])"
      ]
     },
     "execution_count": 7,
     "metadata": {},
     "output_type": "execute_result"
    }
   ],
   "source": [
    "flow_rates"
   ]
  },
  {
   "cell_type": "code",
   "execution_count": 8,
   "metadata": {},
   "outputs": [
    {
     "data": {
      "text/plain": [
       "array([[ 0,  5,  7,  8, 10,  4,  3,  6,  3,  9,  6,  6,  9,  2,  4,  3],\n",
       "       [ 4,  1,  3,  4,  6,  6,  5,  2,  6, 12,  9,  9,  5,  2,  6,  4],\n",
       "       [ 6,  3,  1,  3,  4,  8,  7,  4,  8, 14, 11, 11,  3,  4,  8,  6],\n",
       "       [ 7,  4,  3,  1,  3,  9,  8,  2,  9, 15, 12, 12,  3,  5,  9,  7],\n",
       "       [ 9,  6,  4,  3,  1, 11, 10,  3, 11, 17, 14, 14,  5,  7, 11,  9],\n",
       "       [ 3,  6,  8,  9, 11,  1,  6,  7,  5, 11,  8,  8, 10,  3,  3,  2],\n",
       "       [ 2,  5,  7,  8, 10,  6,  1,  6,  2,  8,  5,  5,  9,  2,  2,  3],\n",
       "       [ 6,  3,  5,  3,  4,  8,  7,  0,  8, 14, 11, 11,  5,  4,  8,  6],\n",
       "       [ 3,  7,  9, 10, 12,  6,  3,  8,  0,  6,  3,  3, 11,  4,  4,  3],\n",
       "       [ 9, 13, 15, 16, 18, 12,  9, 14,  6,  0,  3,  9, 17, 10, 10,  9],\n",
       "       [ 6, 10, 12, 13, 15,  9,  6, 11,  3,  3,  0,  6, 14,  7,  7,  6],\n",
       "       [ 6, 10, 12, 13, 15,  9,  6, 11,  3,  9,  6,  0, 14,  7,  7,  6],\n",
       "       [ 9,  6,  4,  4,  6, 11, 10,  5, 11, 17, 14, 14,  0,  7, 11,  9],\n",
       "       [ 2,  3,  5,  6,  8,  4,  3,  4,  4, 10,  7,  7,  7,  0,  4,  2],\n",
       "       [ 4,  7,  9, 10, 12,  4,  3,  8,  4, 10,  7,  7, 11,  4,  0,  5],\n",
       "       [ 3,  5,  7,  8, 10,  3,  4,  6,  3,  9,  6,  6,  9,  2,  5,  0]])"
      ]
     },
     "execution_count": 8,
     "metadata": {},
     "output_type": "execute_result"
    }
   ],
   "source": [
    "shortest_times"
   ]
  },
  {
   "cell_type": "code",
   "execution_count": null,
   "metadata": {},
   "outputs": [],
   "source": []
  }
 ],
 "metadata": {
  "kernelspec": {
   "display_name": "Python 3",
   "language": "python",
   "name": "python3"
  },
  "language_info": {
   "codemirror_mode": {
    "name": "ipython",
    "version": 3
   },
   "file_extension": ".py",
   "mimetype": "text/x-python",
   "name": "python",
   "nbconvert_exporter": "python",
   "pygments_lexer": "ipython3",
   "version": "3.8.5"
  }
 },
 "nbformat": 4,
 "nbformat_minor": 4
}
