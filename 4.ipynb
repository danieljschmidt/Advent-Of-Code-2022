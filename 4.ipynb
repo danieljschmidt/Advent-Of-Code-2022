{
 "cells": [
  {
   "cell_type": "code",
   "execution_count": 1,
   "metadata": {},
   "outputs": [],
   "source": [
    "with open('4.txt') as f:\n",
    "    lines = f.readlines()"
   ]
  },
  {
   "cell_type": "code",
   "execution_count": 2,
   "metadata": {},
   "outputs": [
    {
     "name": "stdout",
     "output_type": "stream",
     "text": [
      "532\n",
      "854\n"
     ]
    }
   ],
   "source": [
    "counter_1 = 0\n",
    "counter_2 = 0\n",
    "\n",
    "for line in lines:\n",
    "    \n",
    "    if line[-1] == \"\\n\":\n",
    "        line = line[:-1]\n",
    "    \n",
    "    part_1, part_2 = line.split(\",\")\n",
    "    range_1_start, range_1_stop = part_1.split(\"-\")\n",
    "    range_2_start, range_2_stop = part_2.split(\"-\")\n",
    "    \n",
    "    range_1_start, range_1_stop = int(range_1_start), int(range_1_stop)\n",
    "    range_2_start, range_2_stop = int(range_2_start), int(range_2_stop)\n",
    "    \n",
    "    range_1_contains_2 = ((range_1_start <= range_2_start) and (range_1_stop >= range_2_stop))\n",
    "    range_2_contains_1 = ((range_2_start <= range_1_start) and (range_2_stop >= range_1_stop))\n",
    "    \n",
    "    no_overlap = (range_1_stop < range_2_start) or (range_2_stop < range_1_start)\n",
    "    \n",
    "    if range_1_contains_2 or range_2_contains_1:\n",
    "        counter_1 += 1\n",
    "        \n",
    "    if not no_overlap:\n",
    "        counter_2 += 1\n",
    "        \n",
    "print(counter_1)\n",
    "print(counter_2)"
   ]
  },
  {
   "cell_type": "code",
   "execution_count": null,
   "metadata": {},
   "outputs": [],
   "source": []
  }
 ],
 "metadata": {
  "kernelspec": {
   "display_name": "Python 3",
   "language": "python",
   "name": "python3"
  },
  "language_info": {
   "codemirror_mode": {
    "name": "ipython",
    "version": 3
   },
   "file_extension": ".py",
   "mimetype": "text/x-python",
   "name": "python",
   "nbconvert_exporter": "python",
   "pygments_lexer": "ipython3",
   "version": "3.8.5"
  }
 },
 "nbformat": 4,
 "nbformat_minor": 4
}
