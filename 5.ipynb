{
 "cells": [
  {
   "cell_type": "code",
   "execution_count": 1,
   "metadata": {},
   "outputs": [],
   "source": [
    "import numpy as np"
   ]
  },
  {
   "cell_type": "code",
   "execution_count": 2,
   "metadata": {},
   "outputs": [],
   "source": [
    "def rearrange_state(state_dict, n_i, start_i, stop_i):\n",
    "    for _ in range(n_i):\n",
    "        letter = state_dict[start_i].pop()\n",
    "        state_dict[stop_i].append(letter)\n",
    "    return state_dict\n",
    "\n",
    "def rearrange_state_2(state_dict, n_i, start_i, stop_i):\n",
    "    letters = state_dict[start_i][-n_i:]\n",
    "    state_dict[stop_i].extend(letters)\n",
    "    for _ in range(n_i):\n",
    "        _ = state_dict[start_i].pop()\n",
    "    return state_dict\n",
    "\n",
    "def init_state_dict(lines):\n",
    "    state_dict = {}\n",
    "    for i in range(9):\n",
    "        state_dict[i+1] = []\n",
    "        for line in lines[:8][::-1]:\n",
    "            letter = line[1+i*4]\n",
    "            if line[1+i*4] != \" \":\n",
    "                state_dict[i+1].append(letter)\n",
    "    return state_dict"
   ]
  },
  {
   "cell_type": "code",
   "execution_count": 3,
   "metadata": {},
   "outputs": [
    {
     "name": "stdout",
     "output_type": "stream",
     "text": [
      "GRTSWNJHH\n"
     ]
    }
   ],
   "source": [
    "with open(\"5.txt\") as f:\n",
    "    lines = f.readlines()\n",
    "    \n",
    "state_dict = init_state_dict(lines)\n",
    "            \n",
    "n     = np.zeros(len(lines[10:]), dtype=\"int\")\n",
    "start = np.zeros(len(lines[10:]), dtype=\"int\")\n",
    "stop  = np.zeros(len(lines[10:]), dtype=\"int\")\n",
    "\n",
    "for i, line in enumerate(lines[10:]):\n",
    "    _, n[i], _, start[i], _, stop[i] = line.split(\" \")\n",
    "    \n",
    "#for j in range(1, 9+1):\n",
    "#    print(j, state_dict[j])  \n",
    "#print(\"\")\n",
    "\n",
    "for i in range(len(n)):\n",
    "    #print(lines[10+i])\n",
    "    state_dict = rearrange_state(state_dict, n[i], start[i], stop[i])\n",
    "    #for j in range(1, 9+1):\n",
    "    #    print(j, state_dict[j])\n",
    "    #print(\"\")\n",
    "    \n",
    "print(\"\".join([state_dict[i][-1] for i in range(1, 9+1)]))"
   ]
  },
  {
   "cell_type": "code",
   "execution_count": 4,
   "metadata": {},
   "outputs": [
    {
     "name": "stdout",
     "output_type": "stream",
     "text": [
      "QLFQDBBHM\n"
     ]
    }
   ],
   "source": [
    "state_dict = init_state_dict(lines)\n",
    "            \n",
    "n     = np.zeros(len(lines[10:]), dtype=\"int\")\n",
    "start = np.zeros(len(lines[10:]), dtype=\"int\")\n",
    "stop  = np.zeros(len(lines[10:]), dtype=\"int\")\n",
    "\n",
    "for i, line in enumerate(lines[10:]):\n",
    "    _, n[i], _, start[i], _, stop[i] = line.split(\" \")\n",
    "    \n",
    "#for j in range(1, 9+1):\n",
    "#    print(j, state_dict[j])  \n",
    "#print(\"\")\n",
    "\n",
    "for i in range(len(n)):\n",
    "    #print(lines[10+i])\n",
    "    state_dict = rearrange_state_2(state_dict, n[i], start[i], stop[i])\n",
    "    #for j in range(1, 9+1):\n",
    "    #    print(j, state_dict[j])\n",
    "    #print(\"\")\n",
    "    \n",
    "print(\"\".join([state_dict[i][-1] for i in range(1, 9+1)]))"
   ]
  },
  {
   "cell_type": "code",
   "execution_count": null,
   "metadata": {},
   "outputs": [],
   "source": []
  }
 ],
 "metadata": {
  "kernelspec": {
   "display_name": "Python 3",
   "language": "python",
   "name": "python3"
  },
  "language_info": {
   "codemirror_mode": {
    "name": "ipython",
    "version": 3
   },
   "file_extension": ".py",
   "mimetype": "text/x-python",
   "name": "python",
   "nbconvert_exporter": "python",
   "pygments_lexer": "ipython3",
   "version": "3.8.5"
  }
 },
 "nbformat": 4,
 "nbformat_minor": 4
}
